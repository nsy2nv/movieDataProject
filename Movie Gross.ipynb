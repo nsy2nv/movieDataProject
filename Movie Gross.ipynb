{
 "cells": [
  {
   "cell_type": "markdown",
   "id": "427faa4b",
   "metadata": {},
   "source": [
    "# Silver Screen Success: Unraveling Patterns in Movie Dataset"
   ]
  },
  {
   "cell_type": "raw",
   "id": "45ee3519",
   "metadata": {},
   "source": [
    "Data was scraped and compiled from the webpage below\n",
    "https://www.boxofficemojo.com/showdown/?ref_=bo_nb_cso_tab"
   ]
  },
  {
   "cell_type": "markdown",
   "id": "e3dcba11",
   "metadata": {},
   "source": [
    ""
   ]
  },
  {
   "cell_type": "raw",
   "id": "106ed55a",
   "metadata": {},
   "source": [
    "We are entertained, educated, or become aware of critical social issues when we see movies. \n",
    "We learn about a new culture, experience a different perspective, or open our eyes to a world we know nothing about.\n",
    "Movies also change culture by influencing the beliefs, opinions, and behaviors of the people who see them. \n",
    "For example, a documentary about child abuse may move you to take action against child abuse in your community, \n",
    "whether by volunteering for an organization or donating money. Movies also promote economic growth by creating jobs \n",
    "for thousands of people from all walks of life and generating billions of dollars in revenue each year. In this project, we \n",
    "seek to investigate the following using the revenue dataset. \n",
    "\n",
    "RESEARCH QUESTIONS\n",
    "•\tIs there a correlation between the total gross revenue and the number of releases for a movie?\n",
    "\n",
    "•   What is the highest total grossing movie for the dataset?\n",
    "\n",
    "•\tIs there a correlation between the first release gross and the total gross?\n",
    "\n",
    "•\tIdentify the top-grossing movies in the dataset and analyze common characteristics or factors contributing to their success\n"
   ]
  },
  {
   "cell_type": "code",
   "execution_count": 1,
   "id": "b73f698a",
   "metadata": {},
   "outputs": [],
   "source": [
    "import pandas as pd\n",
    "import numpy as np\n",
    "import seaborn as sns\n",
    "import re\n",
    "import sqlite3\n",
    "import matplotlib.pyplot as plt\n",
    "from pathlib import Path\n",
    "from pandas.io.html import read_html\n",
    "\n",
    "url = 'https://www.boxofficemojo.com/showdown/?ref_=bo_nb_shs_tab'"
   ]
  },
  {
   "cell_type": "code",
   "execution_count": 2,
   "id": "e1004c18",
   "metadata": {},
   "outputs": [],
   "source": [
    "# Read data from the webpage"
   ]
  },
  {
   "cell_type": "code",
   "execution_count": 4,
   "id": "fcccfdb4",
   "metadata": {},
   "outputs": [],
   "source": [
    "box_office_showdowns = pd.read_html(url)"
   ]
  },
  {
   "cell_type": "code",
   "execution_count": 5,
   "id": "83f46f66",
   "metadata": {},
   "outputs": [],
   "source": [
    "#Print the head and the tail to inspect the data"
   ]
  },
  {
   "cell_type": "code",
   "execution_count": 6,
   "id": "b7c94558",
   "metadata": {},
   "outputs": [
    {
     "data": {
      "text/html": [
       "<div>\n",
       "<style scoped>\n",
       "    .dataframe tbody tr th:only-of-type {\n",
       "        vertical-align: middle;\n",
       "    }\n",
       "\n",
       "    .dataframe tbody tr th {\n",
       "        vertical-align: top;\n",
       "    }\n",
       "\n",
       "    .dataframe thead th {\n",
       "        text-align: right;\n",
       "    }\n",
       "</style>\n",
       "<table border=\"1\" class=\"dataframe\">\n",
       "  <thead>\n",
       "    <tr style=\"text-align: right;\">\n",
       "      <th></th>\n",
       "      <th>Showdown</th>\n",
       "      <th>Num Releases</th>\n",
       "      <th>Total Gross</th>\n",
       "      <th>#1 Release</th>\n",
       "      <th>Gross</th>\n",
       "    </tr>\n",
       "  </thead>\n",
       "  <tbody>\n",
       "    <tr>\n",
       "      <th>0</th>\n",
       "      <td>12 Years of Nancy Meyers</td>\n",
       "      <td>4</td>\n",
       "      <td>$376,453,634</td>\n",
       "      <td>Something's Gotta Give</td>\n",
       "      <td>$124,728,738</td>\n",
       "    </tr>\n",
       "    <tr>\n",
       "      <th>1</th>\n",
       "      <td>2011 Winter/Spring Thrills</td>\n",
       "      <td>5</td>\n",
       "      <td>$318,152,924</td>\n",
       "      <td>Limitless</td>\n",
       "      <td>$79,249,455</td>\n",
       "    </tr>\n",
       "    <tr>\n",
       "      <th>2</th>\n",
       "      <td>'2012' Vs. 'Interstellar'</td>\n",
       "      <td>2</td>\n",
       "      <td>$354,132,184</td>\n",
       "      <td>Interstellar</td>\n",
       "      <td>$188,020,017</td>\n",
       "    </tr>\n",
       "    <tr>\n",
       "      <th>3</th>\n",
       "      <td>2014 Superhero Showdown</td>\n",
       "      <td>4</td>\n",
       "      <td>$1,029,718,639</td>\n",
       "      <td>Guardians of the Galaxy</td>\n",
       "      <td>$333,176,600</td>\n",
       "    </tr>\n",
       "    <tr>\n",
       "      <th>4</th>\n",
       "      <td>2015 Domestic Underperformers</td>\n",
       "      <td>5</td>\n",
       "      <td>$321,790,869</td>\n",
       "      <td>Tomorrowland</td>\n",
       "      <td>$93,436,322</td>\n",
       "    </tr>\n",
       "    <tr>\n",
       "      <th>5</th>\n",
       "      <td>2016 Superhero Openers</td>\n",
       "      <td>6</td>\n",
       "      <td>$1,814,699,715</td>\n",
       "      <td>Captain America: Civil War</td>\n",
       "      <td>$408,084,349</td>\n",
       "    </tr>\n",
       "    <tr>\n",
       "      <th>6</th>\n",
       "      <td>2016 Superhero Showdown</td>\n",
       "      <td>6</td>\n",
       "      <td>$1,814,699,715</td>\n",
       "      <td>Captain America: Civil War</td>\n",
       "      <td>$408,084,349</td>\n",
       "    </tr>\n",
       "    <tr>\n",
       "      <th>7</th>\n",
       "      <td>2017 Cars Showdown</td>\n",
       "      <td>2</td>\n",
       "      <td>$344,353,511</td>\n",
       "      <td>Cars 2</td>\n",
       "      <td>$191,452,396</td>\n",
       "    </tr>\n",
       "    <tr>\n",
       "      <th>8</th>\n",
       "      <td>2017 Superhero Summer Slam</td>\n",
       "      <td>3</td>\n",
       "      <td>$1,136,577,649</td>\n",
       "      <td>Wonder Woman</td>\n",
       "      <td>$412,563,408</td>\n",
       "    </tr>\n",
       "    <tr>\n",
       "      <th>9</th>\n",
       "      <td>3D Concert Clash</td>\n",
       "      <td>6</td>\n",
       "      <td>$283,748,892</td>\n",
       "      <td>Justin Bieber: Never Say Never</td>\n",
       "      <td>$73,013,910</td>\n",
       "    </tr>\n",
       "  </tbody>\n",
       "</table>\n",
       "</div>"
      ],
      "text/plain": [
       "                        Showdown  Num Releases     Total Gross  \\\n",
       "0       12 Years of Nancy Meyers             4    $376,453,634   \n",
       "1     2011 Winter/Spring Thrills             5    $318,152,924   \n",
       "2      '2012' Vs. 'Interstellar'             2    $354,132,184   \n",
       "3        2014 Superhero Showdown             4  $1,029,718,639   \n",
       "4  2015 Domestic Underperformers             5    $321,790,869   \n",
       "5         2016 Superhero Openers             6  $1,814,699,715   \n",
       "6        2016 Superhero Showdown             6  $1,814,699,715   \n",
       "7             2017 Cars Showdown             2    $344,353,511   \n",
       "8     2017 Superhero Summer Slam             3  $1,136,577,649   \n",
       "9               3D Concert Clash             6    $283,748,892   \n",
       "\n",
       "                       #1 Release         Gross  \n",
       "0          Something's Gotta Give  $124,728,738  \n",
       "1                       Limitless   $79,249,455  \n",
       "2                    Interstellar  $188,020,017  \n",
       "3         Guardians of the Galaxy  $333,176,600  \n",
       "4                    Tomorrowland   $93,436,322  \n",
       "5      Captain America: Civil War  $408,084,349  \n",
       "6      Captain America: Civil War  $408,084,349  \n",
       "7                          Cars 2  $191,452,396  \n",
       "8                    Wonder Woman  $412,563,408  \n",
       "9  Justin Bieber: Never Say Never   $73,013,910  "
      ]
     },
     "execution_count": 6,
     "metadata": {},
     "output_type": "execute_result"
    }
   ],
   "source": [
    "box_office_showdowns[0].head(10)"
   ]
  },
  {
   "cell_type": "code",
   "execution_count": 7,
   "id": "c8ccfe9f",
   "metadata": {},
   "outputs": [
    {
     "data": {
      "text/html": [
       "<div>\n",
       "<style scoped>\n",
       "    .dataframe tbody tr th:only-of-type {\n",
       "        vertical-align: middle;\n",
       "    }\n",
       "\n",
       "    .dataframe tbody tr th {\n",
       "        vertical-align: top;\n",
       "    }\n",
       "\n",
       "    .dataframe thead th {\n",
       "        text-align: right;\n",
       "    }\n",
       "</style>\n",
       "<table border=\"1\" class=\"dataframe\">\n",
       "  <thead>\n",
       "    <tr style=\"text-align: right;\">\n",
       "      <th></th>\n",
       "      <th>Showdown</th>\n",
       "      <th>Num Releases</th>\n",
       "      <th>Total Gross</th>\n",
       "      <th>#1 Release</th>\n",
       "      <th>Gross</th>\n",
       "    </tr>\n",
       "  </thead>\n",
       "  <tbody>\n",
       "    <tr>\n",
       "      <th>572</th>\n",
       "      <td>Wonder Woman vs. Mockingjay 2</td>\n",
       "      <td>2</td>\n",
       "      <td>$694,287,310</td>\n",
       "      <td>Wonder Woman</td>\n",
       "      <td>$412,563,408</td>\n",
       "    </tr>\n",
       "    <tr>\n",
       "      <th>573</th>\n",
       "      <td>World War II Showdown</td>\n",
       "      <td>6</td>\n",
       "      <td>$626,715,254</td>\n",
       "      <td>Saving Private Ryan</td>\n",
       "      <td>$216,540,909</td>\n",
       "    </tr>\n",
       "    <tr>\n",
       "      <th>574</th>\n",
       "      <td>'Wrath of the Titans' Vs. 'Hercules'</td>\n",
       "      <td>2</td>\n",
       "      <td>$156,358,697</td>\n",
       "      <td>Wrath of the Titans</td>\n",
       "      <td>$83,670,083</td>\n",
       "    </tr>\n",
       "    <tr>\n",
       "      <th>575</th>\n",
       "      <td>Xander vs. Riddick</td>\n",
       "      <td>5</td>\n",
       "      <td>$326,034,601</td>\n",
       "      <td>xXx</td>\n",
       "      <td>$142,109,382</td>\n",
       "    </tr>\n",
       "    <tr>\n",
       "      <th>576</th>\n",
       "      <td>X-Men: First, Days &amp; Apocalypse</td>\n",
       "      <td>3</td>\n",
       "      <td>$535,772,328</td>\n",
       "      <td>X-Men: Days of Future Past</td>\n",
       "      <td>$233,921,534</td>\n",
       "    </tr>\n",
       "    <tr>\n",
       "      <th>577</th>\n",
       "      <td>X-Men Vs. X-Men</td>\n",
       "      <td>6</td>\n",
       "      <td>$1,065,460,188</td>\n",
       "      <td>X-Men: The Last Stand</td>\n",
       "      <td>$234,362,462</td>\n",
       "    </tr>\n",
       "    <tr>\n",
       "      <th>578</th>\n",
       "      <td>X-Philes Vs. Browncoats</td>\n",
       "      <td>3</td>\n",
       "      <td>$130,395,308</td>\n",
       "      <td>The X Files</td>\n",
       "      <td>$83,898,313</td>\n",
       "    </tr>\n",
       "    <tr>\n",
       "      <th>579</th>\n",
       "      <td>'Zombieland' Vs. 'Warm Bodies'</td>\n",
       "      <td>2</td>\n",
       "      <td>$141,970,948</td>\n",
       "      <td>Zombieland</td>\n",
       "      <td>$75,590,286</td>\n",
       "    </tr>\n",
       "    <tr>\n",
       "      <th>580</th>\n",
       "      <td>Zombieland v Zombieland</td>\n",
       "      <td>2</td>\n",
       "      <td>$148,713,368</td>\n",
       "      <td>Zombieland</td>\n",
       "      <td>$75,590,286</td>\n",
       "    </tr>\n",
       "    <tr>\n",
       "      <th>581</th>\n",
       "      <td>Zombie Showdown</td>\n",
       "      <td>6</td>\n",
       "      <td>$321,645,999</td>\n",
       "      <td>Zombieland</td>\n",
       "      <td>$75,590,286</td>\n",
       "    </tr>\n",
       "  </tbody>\n",
       "</table>\n",
       "</div>"
      ],
      "text/plain": [
       "                                 Showdown  Num Releases     Total Gross  \\\n",
       "572         Wonder Woman vs. Mockingjay 2             2    $694,287,310   \n",
       "573                 World War II Showdown             6    $626,715,254   \n",
       "574  'Wrath of the Titans' Vs. 'Hercules'             2    $156,358,697   \n",
       "575                    Xander vs. Riddick             5    $326,034,601   \n",
       "576       X-Men: First, Days & Apocalypse             3    $535,772,328   \n",
       "577                       X-Men Vs. X-Men             6  $1,065,460,188   \n",
       "578               X-Philes Vs. Browncoats             3    $130,395,308   \n",
       "579        'Zombieland' Vs. 'Warm Bodies'             2    $141,970,948   \n",
       "580               Zombieland v Zombieland             2    $148,713,368   \n",
       "581                       Zombie Showdown             6    $321,645,999   \n",
       "\n",
       "                     #1 Release         Gross  \n",
       "572                Wonder Woman  $412,563,408  \n",
       "573         Saving Private Ryan  $216,540,909  \n",
       "574         Wrath of the Titans   $83,670,083  \n",
       "575                         xXx  $142,109,382  \n",
       "576  X-Men: Days of Future Past  $233,921,534  \n",
       "577       X-Men: The Last Stand  $234,362,462  \n",
       "578                 The X Files   $83,898,313  \n",
       "579                  Zombieland   $75,590,286  \n",
       "580                  Zombieland   $75,590,286  \n",
       "581                  Zombieland   $75,590,286  "
      ]
     },
     "execution_count": 7,
     "metadata": {},
     "output_type": "execute_result"
    }
   ],
   "source": [
    "box_office_showdowns[0].tail(10)"
   ]
  },
  {
   "cell_type": "code",
   "execution_count": 8,
   "id": "60ef8169",
   "metadata": {},
   "outputs": [],
   "source": [
    "# Convert the box office showdowns data to dataframe for easy manipulation"
   ]
  },
  {
   "cell_type": "code",
   "execution_count": 9,
   "id": "700af1f8",
   "metadata": {},
   "outputs": [],
   "source": [
    "box_office_showdowns = pd.DataFrame(box_office_showdowns[0])"
   ]
  },
  {
   "cell_type": "code",
   "execution_count": 10,
   "id": "47b6ea58",
   "metadata": {},
   "outputs": [
    {
     "data": {
      "text/plain": [
       "Showdown        object\n",
       "Num Releases     int64\n",
       "Total Gross     object\n",
       "#1 Release      object\n",
       "Gross           object\n",
       "dtype: object"
      ]
     },
     "execution_count": 10,
     "metadata": {},
     "output_type": "execute_result"
    }
   ],
   "source": [
    "box_office_showdowns.dtypes"
   ]
  },
  {
   "cell_type": "code",
   "execution_count": 11,
   "id": "8e34bb42",
   "metadata": {},
   "outputs": [
    {
     "name": "stdout",
     "output_type": "stream",
     "text": [
      "<class 'pandas.core.frame.DataFrame'>\n",
      "RangeIndex: 582 entries, 0 to 581\n",
      "Data columns (total 5 columns):\n",
      " #   Column        Non-Null Count  Dtype \n",
      "---  ------        --------------  ----- \n",
      " 0   Showdown      582 non-null    object\n",
      " 1   Num Releases  582 non-null    int64 \n",
      " 2   Total Gross   582 non-null    object\n",
      " 3   #1 Release    582 non-null    object\n",
      " 4   Gross         582 non-null    object\n",
      "dtypes: int64(1), object(4)\n",
      "memory usage: 22.9+ KB\n"
     ]
    }
   ],
   "source": [
    "box_office_showdowns.info()"
   ]
  },
  {
   "cell_type": "markdown",
   "id": "6c4572b2",
   "metadata": {},
   "source": [
    "# Data Preprocessing and cleaning"
   ]
  },
  {
   "cell_type": "code",
   "execution_count": 12,
   "id": "c424ca3a",
   "metadata": {},
   "outputs": [],
   "source": [
    "# Rename the variables to avoid conflict during analysis"
   ]
  },
  {
   "cell_type": "code",
   "execution_count": 13,
   "id": "41bda4f4",
   "metadata": {},
   "outputs": [],
   "source": [
    "box_office_showdowns.rename(columns={'Num Releases': 'Num_of_release'}, inplace = True)\n",
    "box_office_showdowns.rename(columns={'Total Gross': 'Total_gross'}, inplace = True)\n",
    "box_office_showdowns.rename(columns={'#1 Release': 'First_release'}, inplace = True)"
   ]
  },
  {
   "cell_type": "code",
   "execution_count": 14,
   "id": "1b1e5b53",
   "metadata": {},
   "outputs": [
    {
     "data": {
      "text/plain": [
       "Showdown          object\n",
       "Num_of_release     int64\n",
       "Total_gross       object\n",
       "First_release     object\n",
       "Gross             object\n",
       "dtype: object"
      ]
     },
     "execution_count": 14,
     "metadata": {},
     "output_type": "execute_result"
    }
   ],
   "source": [
    "box_office_showdowns.dtypes"
   ]
  },
  {
   "cell_type": "code",
   "execution_count": 16,
   "id": "41c9aa45",
   "metadata": {},
   "outputs": [],
   "source": [
    "# Remove all the special characters and alphabets from the two numeric columns"
   ]
  },
  {
   "cell_type": "code",
   "execution_count": 17,
   "id": "39f301c0",
   "metadata": {},
   "outputs": [],
   "source": [
    "for column in box_office_showdowns.columns:\n",
    "    box_office_showdowns['Total_gross'] = box_office_showdowns['Total_gross'].str.replace(r'\\D', '', regex=True)\n",
    "    box_office_showdowns['Gross'] = box_office_showdowns['Gross'].str.replace(r'\\D', '', regex=True)"
   ]
  },
  {
   "cell_type": "code",
   "execution_count": 18,
   "id": "8eb0b108",
   "metadata": {},
   "outputs": [
    {
     "data": {
      "text/html": [
       "<div>\n",
       "<style scoped>\n",
       "    .dataframe tbody tr th:only-of-type {\n",
       "        vertical-align: middle;\n",
       "    }\n",
       "\n",
       "    .dataframe tbody tr th {\n",
       "        vertical-align: top;\n",
       "    }\n",
       "\n",
       "    .dataframe thead th {\n",
       "        text-align: right;\n",
       "    }\n",
       "</style>\n",
       "<table border=\"1\" class=\"dataframe\">\n",
       "  <thead>\n",
       "    <tr style=\"text-align: right;\">\n",
       "      <th></th>\n",
       "      <th>Showdown</th>\n",
       "      <th>Num_of_release</th>\n",
       "      <th>Total_gross</th>\n",
       "      <th>First_release</th>\n",
       "      <th>Gross</th>\n",
       "    </tr>\n",
       "  </thead>\n",
       "  <tbody>\n",
       "    <tr>\n",
       "      <th>0</th>\n",
       "      <td>12 Years of Nancy Meyers</td>\n",
       "      <td>4</td>\n",
       "      <td>376453634</td>\n",
       "      <td>Something's Gotta Give</td>\n",
       "      <td>124728738</td>\n",
       "    </tr>\n",
       "    <tr>\n",
       "      <th>1</th>\n",
       "      <td>2011 Winter/Spring Thrills</td>\n",
       "      <td>5</td>\n",
       "      <td>318152924</td>\n",
       "      <td>Limitless</td>\n",
       "      <td>79249455</td>\n",
       "    </tr>\n",
       "    <tr>\n",
       "      <th>2</th>\n",
       "      <td>'2012' Vs. 'Interstellar'</td>\n",
       "      <td>2</td>\n",
       "      <td>354132184</td>\n",
       "      <td>Interstellar</td>\n",
       "      <td>188020017</td>\n",
       "    </tr>\n",
       "    <tr>\n",
       "      <th>3</th>\n",
       "      <td>2014 Superhero Showdown</td>\n",
       "      <td>4</td>\n",
       "      <td>1029718639</td>\n",
       "      <td>Guardians of the Galaxy</td>\n",
       "      <td>333176600</td>\n",
       "    </tr>\n",
       "    <tr>\n",
       "      <th>4</th>\n",
       "      <td>2015 Domestic Underperformers</td>\n",
       "      <td>5</td>\n",
       "      <td>321790869</td>\n",
       "      <td>Tomorrowland</td>\n",
       "      <td>93436322</td>\n",
       "    </tr>\n",
       "    <tr>\n",
       "      <th>...</th>\n",
       "      <td>...</td>\n",
       "      <td>...</td>\n",
       "      <td>...</td>\n",
       "      <td>...</td>\n",
       "      <td>...</td>\n",
       "    </tr>\n",
       "    <tr>\n",
       "      <th>577</th>\n",
       "      <td>X-Men Vs. X-Men</td>\n",
       "      <td>6</td>\n",
       "      <td>1065460188</td>\n",
       "      <td>X-Men: The Last Stand</td>\n",
       "      <td>234362462</td>\n",
       "    </tr>\n",
       "    <tr>\n",
       "      <th>578</th>\n",
       "      <td>X-Philes Vs. Browncoats</td>\n",
       "      <td>3</td>\n",
       "      <td>130395308</td>\n",
       "      <td>The X Files</td>\n",
       "      <td>83898313</td>\n",
       "    </tr>\n",
       "    <tr>\n",
       "      <th>579</th>\n",
       "      <td>'Zombieland' Vs. 'Warm Bodies'</td>\n",
       "      <td>2</td>\n",
       "      <td>141970948</td>\n",
       "      <td>Zombieland</td>\n",
       "      <td>75590286</td>\n",
       "    </tr>\n",
       "    <tr>\n",
       "      <th>580</th>\n",
       "      <td>Zombieland v Zombieland</td>\n",
       "      <td>2</td>\n",
       "      <td>148713368</td>\n",
       "      <td>Zombieland</td>\n",
       "      <td>75590286</td>\n",
       "    </tr>\n",
       "    <tr>\n",
       "      <th>581</th>\n",
       "      <td>Zombie Showdown</td>\n",
       "      <td>6</td>\n",
       "      <td>321645999</td>\n",
       "      <td>Zombieland</td>\n",
       "      <td>75590286</td>\n",
       "    </tr>\n",
       "  </tbody>\n",
       "</table>\n",
       "<p>582 rows × 5 columns</p>\n",
       "</div>"
      ],
      "text/plain": [
       "                           Showdown  Num_of_release Total_gross  \\\n",
       "0          12 Years of Nancy Meyers               4   376453634   \n",
       "1        2011 Winter/Spring Thrills               5   318152924   \n",
       "2         '2012' Vs. 'Interstellar'               2   354132184   \n",
       "3           2014 Superhero Showdown               4  1029718639   \n",
       "4     2015 Domestic Underperformers               5   321790869   \n",
       "..                              ...             ...         ...   \n",
       "577                 X-Men Vs. X-Men               6  1065460188   \n",
       "578         X-Philes Vs. Browncoats               3   130395308   \n",
       "579  'Zombieland' Vs. 'Warm Bodies'               2   141970948   \n",
       "580         Zombieland v Zombieland               2   148713368   \n",
       "581                 Zombie Showdown               6   321645999   \n",
       "\n",
       "               First_release      Gross  \n",
       "0     Something's Gotta Give  124728738  \n",
       "1                  Limitless   79249455  \n",
       "2               Interstellar  188020017  \n",
       "3    Guardians of the Galaxy  333176600  \n",
       "4               Tomorrowland   93436322  \n",
       "..                       ...        ...  \n",
       "577    X-Men: The Last Stand  234362462  \n",
       "578              The X Files   83898313  \n",
       "579               Zombieland   75590286  \n",
       "580               Zombieland   75590286  \n",
       "581               Zombieland   75590286  \n",
       "\n",
       "[582 rows x 5 columns]"
      ]
     },
     "execution_count": 18,
     "metadata": {},
     "output_type": "execute_result"
    }
   ],
   "source": [
    "box_office_showdowns"
   ]
  },
  {
   "cell_type": "code",
   "execution_count": 19,
   "id": "ef547c44",
   "metadata": {},
   "outputs": [],
   "source": [
    "# Convert the 'Total_gross' and 'Gross' columns to float to avoid conflict during analysis"
   ]
  },
  {
   "cell_type": "code",
   "execution_count": 20,
   "id": "a645d12d",
   "metadata": {},
   "outputs": [],
   "source": [
    "box_office_showdowns['Total_gross'] = box_office_showdowns['Total_gross'].astype(float)\n",
    "box_office_showdowns['Gross'] = box_office_showdowns['Gross'].astype(float)"
   ]
  },
  {
   "cell_type": "code",
   "execution_count": 21,
   "id": "e085439b",
   "metadata": {},
   "outputs": [
    {
     "data": {
      "text/plain": [
       "Showdown           object\n",
       "Num_of_release      int64\n",
       "Total_gross       float64\n",
       "First_release      object\n",
       "Gross             float64\n",
       "dtype: object"
      ]
     },
     "execution_count": 21,
     "metadata": {},
     "output_type": "execute_result"
    }
   ],
   "source": [
    "box_office_showdowns.dtypes"
   ]
  },
  {
   "cell_type": "code",
   "execution_count": 22,
   "id": "815964c0",
   "metadata": {},
   "outputs": [],
   "source": [
    "# Convert the already cleaned dataset to a csv file"
   ]
  },
  {
   "cell_type": "code",
   "execution_count": 23,
   "id": "c1765499",
   "metadata": {},
   "outputs": [],
   "source": [
    "box_office_showdowns.to_csv(\"box_office_showdowns.csv\", header=True, index=False)"
   ]
  },
  {
   "cell_type": "code",
   "execution_count": 24,
   "id": "bdf1d66b",
   "metadata": {},
   "outputs": [],
   "source": [
    "# The next line of code reads the csv file"
   ]
  },
  {
   "cell_type": "code",
   "execution_count": 25,
   "id": "68fd0482",
   "metadata": {},
   "outputs": [],
   "source": [
    "box_off_showdowns = pd.read_csv('box_office_showdowns.csv')"
   ]
  },
  {
   "cell_type": "code",
   "execution_count": 26,
   "id": "372284e7",
   "metadata": {},
   "outputs": [
    {
     "data": {
      "text/html": [
       "<div>\n",
       "<style scoped>\n",
       "    .dataframe tbody tr th:only-of-type {\n",
       "        vertical-align: middle;\n",
       "    }\n",
       "\n",
       "    .dataframe tbody tr th {\n",
       "        vertical-align: top;\n",
       "    }\n",
       "\n",
       "    .dataframe thead th {\n",
       "        text-align: right;\n",
       "    }\n",
       "</style>\n",
       "<table border=\"1\" class=\"dataframe\">\n",
       "  <thead>\n",
       "    <tr style=\"text-align: right;\">\n",
       "      <th></th>\n",
       "      <th>Showdown</th>\n",
       "      <th>Num_of_release</th>\n",
       "      <th>Total_gross</th>\n",
       "      <th>First_release</th>\n",
       "      <th>Gross</th>\n",
       "    </tr>\n",
       "  </thead>\n",
       "  <tbody>\n",
       "    <tr>\n",
       "      <th>0</th>\n",
       "      <td>12 Years of Nancy Meyers</td>\n",
       "      <td>4</td>\n",
       "      <td>3.764536e+08</td>\n",
       "      <td>Something's Gotta Give</td>\n",
       "      <td>124728738.0</td>\n",
       "    </tr>\n",
       "    <tr>\n",
       "      <th>1</th>\n",
       "      <td>2011 Winter/Spring Thrills</td>\n",
       "      <td>5</td>\n",
       "      <td>3.181529e+08</td>\n",
       "      <td>Limitless</td>\n",
       "      <td>79249455.0</td>\n",
       "    </tr>\n",
       "    <tr>\n",
       "      <th>2</th>\n",
       "      <td>'2012' Vs. 'Interstellar'</td>\n",
       "      <td>2</td>\n",
       "      <td>3.541322e+08</td>\n",
       "      <td>Interstellar</td>\n",
       "      <td>188020017.0</td>\n",
       "    </tr>\n",
       "    <tr>\n",
       "      <th>3</th>\n",
       "      <td>2014 Superhero Showdown</td>\n",
       "      <td>4</td>\n",
       "      <td>1.029719e+09</td>\n",
       "      <td>Guardians of the Galaxy</td>\n",
       "      <td>333176600.0</td>\n",
       "    </tr>\n",
       "    <tr>\n",
       "      <th>4</th>\n",
       "      <td>2015 Domestic Underperformers</td>\n",
       "      <td>5</td>\n",
       "      <td>3.217909e+08</td>\n",
       "      <td>Tomorrowland</td>\n",
       "      <td>93436322.0</td>\n",
       "    </tr>\n",
       "    <tr>\n",
       "      <th>5</th>\n",
       "      <td>2016 Superhero Openers</td>\n",
       "      <td>6</td>\n",
       "      <td>1.814700e+09</td>\n",
       "      <td>Captain America: Civil War</td>\n",
       "      <td>408084349.0</td>\n",
       "    </tr>\n",
       "    <tr>\n",
       "      <th>6</th>\n",
       "      <td>2016 Superhero Showdown</td>\n",
       "      <td>6</td>\n",
       "      <td>1.814700e+09</td>\n",
       "      <td>Captain America: Civil War</td>\n",
       "      <td>408084349.0</td>\n",
       "    </tr>\n",
       "    <tr>\n",
       "      <th>7</th>\n",
       "      <td>2017 Cars Showdown</td>\n",
       "      <td>2</td>\n",
       "      <td>3.443535e+08</td>\n",
       "      <td>Cars 2</td>\n",
       "      <td>191452396.0</td>\n",
       "    </tr>\n",
       "    <tr>\n",
       "      <th>8</th>\n",
       "      <td>2017 Superhero Summer Slam</td>\n",
       "      <td>3</td>\n",
       "      <td>1.136578e+09</td>\n",
       "      <td>Wonder Woman</td>\n",
       "      <td>412563408.0</td>\n",
       "    </tr>\n",
       "    <tr>\n",
       "      <th>9</th>\n",
       "      <td>3D Concert Clash</td>\n",
       "      <td>6</td>\n",
       "      <td>2.837489e+08</td>\n",
       "      <td>Justin Bieber: Never Say Never</td>\n",
       "      <td>73013910.0</td>\n",
       "    </tr>\n",
       "    <tr>\n",
       "      <th>10</th>\n",
       "      <td>3D Re-Releases</td>\n",
       "      <td>6</td>\n",
       "      <td>3.150303e+08</td>\n",
       "      <td>The Lion King (2011 3D Release)</td>\n",
       "      <td>94242001.0</td>\n",
       "    </tr>\n",
       "    <tr>\n",
       "      <th>11</th>\n",
       "      <td>Adam Sandler in Decline</td>\n",
       "      <td>5</td>\n",
       "      <td>3.698000e+08</td>\n",
       "      <td>Grown Ups 2</td>\n",
       "      <td>133668525.0</td>\n",
       "    </tr>\n",
       "    <tr>\n",
       "      <th>12</th>\n",
       "      <td>Adam Sandler Vs. Adam Sandler</td>\n",
       "      <td>5</td>\n",
       "      <td>6.783224e+08</td>\n",
       "      <td>The Longest Yard</td>\n",
       "      <td>158119460.0</td>\n",
       "    </tr>\n",
       "    <tr>\n",
       "      <th>13</th>\n",
       "      <td>Affleck's Accountant, Argo and Town</td>\n",
       "      <td>3</td>\n",
       "      <td>3.144718e+08</td>\n",
       "      <td>Argo</td>\n",
       "      <td>136025503.0</td>\n",
       "    </tr>\n",
       "    <tr>\n",
       "      <th>14</th>\n",
       "      <td>'After Earth' Vs. 'Ender's Game'</td>\n",
       "      <td>2</td>\n",
       "      <td>1.222593e+08</td>\n",
       "      <td>Ender's Game</td>\n",
       "      <td>61737191.0</td>\n",
       "    </tr>\n",
       "    <tr>\n",
       "      <th>15</th>\n",
       "      <td>Alice in Wonderland vs. Looking Glass</td>\n",
       "      <td>2</td>\n",
       "      <td>4.112325e+08</td>\n",
       "      <td>Alice in Wonderland</td>\n",
       "      <td>334191110.0</td>\n",
       "    </tr>\n",
       "    <tr>\n",
       "      <th>16</th>\n",
       "      <td>Alien: Covenant v. Prometheus</td>\n",
       "      <td>2</td>\n",
       "      <td>2.007391e+08</td>\n",
       "      <td>Prometheus</td>\n",
       "      <td>126477084.0</td>\n",
       "    </tr>\n",
       "    <tr>\n",
       "      <th>17</th>\n",
       "      <td>Alien Invasion</td>\n",
       "      <td>6</td>\n",
       "      <td>1.388546e+09</td>\n",
       "      <td>Independence Day</td>\n",
       "      <td>306169268.0</td>\n",
       "    </tr>\n",
       "    <tr>\n",
       "      <th>18</th>\n",
       "      <td>Alien/Robot/Environment Attack</td>\n",
       "      <td>6</td>\n",
       "      <td>8.148736e+08</td>\n",
       "      <td>War of the Worlds</td>\n",
       "      <td>234280354.0</td>\n",
       "    </tr>\n",
       "    <tr>\n",
       "      <th>19</th>\n",
       "      <td>Alien vs. Predator Versus Freddy vs. Jason</td>\n",
       "      <td>2</td>\n",
       "      <td>1.629049e+08</td>\n",
       "      <td>Freddy vs. Jason</td>\n",
       "      <td>82622655.0</td>\n",
       "    </tr>\n",
       "  </tbody>\n",
       "</table>\n",
       "</div>"
      ],
      "text/plain": [
       "                                      Showdown  Num_of_release   Total_gross  \\\n",
       "0                     12 Years of Nancy Meyers               4  3.764536e+08   \n",
       "1                   2011 Winter/Spring Thrills               5  3.181529e+08   \n",
       "2                    '2012' Vs. 'Interstellar'               2  3.541322e+08   \n",
       "3                      2014 Superhero Showdown               4  1.029719e+09   \n",
       "4                2015 Domestic Underperformers               5  3.217909e+08   \n",
       "5                       2016 Superhero Openers               6  1.814700e+09   \n",
       "6                      2016 Superhero Showdown               6  1.814700e+09   \n",
       "7                           2017 Cars Showdown               2  3.443535e+08   \n",
       "8                   2017 Superhero Summer Slam               3  1.136578e+09   \n",
       "9                             3D Concert Clash               6  2.837489e+08   \n",
       "10                              3D Re-Releases               6  3.150303e+08   \n",
       "11                     Adam Sandler in Decline               5  3.698000e+08   \n",
       "12               Adam Sandler Vs. Adam Sandler               5  6.783224e+08   \n",
       "13         Affleck's Accountant, Argo and Town               3  3.144718e+08   \n",
       "14            'After Earth' Vs. 'Ender's Game'               2  1.222593e+08   \n",
       "15       Alice in Wonderland vs. Looking Glass               2  4.112325e+08   \n",
       "16               Alien: Covenant v. Prometheus               2  2.007391e+08   \n",
       "17                              Alien Invasion               6  1.388546e+09   \n",
       "18              Alien/Robot/Environment Attack               6  8.148736e+08   \n",
       "19  Alien vs. Predator Versus Freddy vs. Jason               2  1.629049e+08   \n",
       "\n",
       "                      First_release        Gross  \n",
       "0            Something's Gotta Give  124728738.0  \n",
       "1                         Limitless   79249455.0  \n",
       "2                      Interstellar  188020017.0  \n",
       "3           Guardians of the Galaxy  333176600.0  \n",
       "4                      Tomorrowland   93436322.0  \n",
       "5        Captain America: Civil War  408084349.0  \n",
       "6        Captain America: Civil War  408084349.0  \n",
       "7                            Cars 2  191452396.0  \n",
       "8                      Wonder Woman  412563408.0  \n",
       "9    Justin Bieber: Never Say Never   73013910.0  \n",
       "10  The Lion King (2011 3D Release)   94242001.0  \n",
       "11                      Grown Ups 2  133668525.0  \n",
       "12                 The Longest Yard  158119460.0  \n",
       "13                             Argo  136025503.0  \n",
       "14                     Ender's Game   61737191.0  \n",
       "15              Alice in Wonderland  334191110.0  \n",
       "16                       Prometheus  126477084.0  \n",
       "17                 Independence Day  306169268.0  \n",
       "18                War of the Worlds  234280354.0  \n",
       "19                 Freddy vs. Jason   82622655.0  "
      ]
     },
     "execution_count": 26,
     "metadata": {},
     "output_type": "execute_result"
    }
   ],
   "source": [
    "box_off_showdowns.head(20) # Shows the first 20 records of the CSV data file"
   ]
  },
  {
   "cell_type": "code",
   "execution_count": 27,
   "id": "fbfab0a2",
   "metadata": {},
   "outputs": [],
   "source": [
    "# Divides the 'Total_gross' and 'Gross' columns by 1000000 to store the values in million"
   ]
  },
  {
   "cell_type": "code",
   "execution_count": 28,
   "id": "9da9b8ce",
   "metadata": {},
   "outputs": [],
   "source": [
    "box_off_showdowns['Total_gross'] = box_off_showdowns['Total_gross']/1000000"
   ]
  },
  {
   "cell_type": "code",
   "execution_count": 29,
   "id": "866d1a4c",
   "metadata": {},
   "outputs": [],
   "source": [
    "box_off_showdowns['Gross'] = box_off_showdowns['Gross']/1000000"
   ]
  },
  {
   "cell_type": "code",
   "execution_count": 30,
   "id": "f8704817",
   "metadata": {},
   "outputs": [],
   "source": [
    "# Rename the 'Total_gross' and 'Gross' column to indicate that the data therein are stored in million"
   ]
  },
  {
   "cell_type": "code",
   "execution_count": 31,
   "id": "8ce62224",
   "metadata": {},
   "outputs": [],
   "source": [
    "box_off_showdowns.rename(columns = {'Total_gross': 'Total_gross_in_million'}, inplace =True)\n",
    "box_off_showdowns.rename(columns = {'Gross': 'Gross_in_million'}, inplace = True)"
   ]
  },
  {
   "cell_type": "code",
   "execution_count": 32,
   "id": "17c238d7",
   "metadata": {},
   "outputs": [
    {
     "data": {
      "text/html": [
       "<div>\n",
       "<style scoped>\n",
       "    .dataframe tbody tr th:only-of-type {\n",
       "        vertical-align: middle;\n",
       "    }\n",
       "\n",
       "    .dataframe tbody tr th {\n",
       "        vertical-align: top;\n",
       "    }\n",
       "\n",
       "    .dataframe thead th {\n",
       "        text-align: right;\n",
       "    }\n",
       "</style>\n",
       "<table border=\"1\" class=\"dataframe\">\n",
       "  <thead>\n",
       "    <tr style=\"text-align: right;\">\n",
       "      <th></th>\n",
       "      <th>Showdown</th>\n",
       "      <th>Num_of_release</th>\n",
       "      <th>Total_gross_in_million</th>\n",
       "      <th>First_release</th>\n",
       "      <th>Gross_in_million</th>\n",
       "    </tr>\n",
       "  </thead>\n",
       "  <tbody>\n",
       "    <tr>\n",
       "      <th>0</th>\n",
       "      <td>12 Years of Nancy Meyers</td>\n",
       "      <td>4</td>\n",
       "      <td>376.453634</td>\n",
       "      <td>Something's Gotta Give</td>\n",
       "      <td>124.728738</td>\n",
       "    </tr>\n",
       "    <tr>\n",
       "      <th>1</th>\n",
       "      <td>2011 Winter/Spring Thrills</td>\n",
       "      <td>5</td>\n",
       "      <td>318.152924</td>\n",
       "      <td>Limitless</td>\n",
       "      <td>79.249455</td>\n",
       "    </tr>\n",
       "    <tr>\n",
       "      <th>2</th>\n",
       "      <td>'2012' Vs. 'Interstellar'</td>\n",
       "      <td>2</td>\n",
       "      <td>354.132184</td>\n",
       "      <td>Interstellar</td>\n",
       "      <td>188.020017</td>\n",
       "    </tr>\n",
       "    <tr>\n",
       "      <th>3</th>\n",
       "      <td>2014 Superhero Showdown</td>\n",
       "      <td>4</td>\n",
       "      <td>1029.718639</td>\n",
       "      <td>Guardians of the Galaxy</td>\n",
       "      <td>333.176600</td>\n",
       "    </tr>\n",
       "    <tr>\n",
       "      <th>4</th>\n",
       "      <td>2015 Domestic Underperformers</td>\n",
       "      <td>5</td>\n",
       "      <td>321.790869</td>\n",
       "      <td>Tomorrowland</td>\n",
       "      <td>93.436322</td>\n",
       "    </tr>\n",
       "    <tr>\n",
       "      <th>...</th>\n",
       "      <td>...</td>\n",
       "      <td>...</td>\n",
       "      <td>...</td>\n",
       "      <td>...</td>\n",
       "      <td>...</td>\n",
       "    </tr>\n",
       "    <tr>\n",
       "      <th>577</th>\n",
       "      <td>X-Men Vs. X-Men</td>\n",
       "      <td>6</td>\n",
       "      <td>1065.460188</td>\n",
       "      <td>X-Men: The Last Stand</td>\n",
       "      <td>234.362462</td>\n",
       "    </tr>\n",
       "    <tr>\n",
       "      <th>578</th>\n",
       "      <td>X-Philes Vs. Browncoats</td>\n",
       "      <td>3</td>\n",
       "      <td>130.395308</td>\n",
       "      <td>The X Files</td>\n",
       "      <td>83.898313</td>\n",
       "    </tr>\n",
       "    <tr>\n",
       "      <th>579</th>\n",
       "      <td>'Zombieland' Vs. 'Warm Bodies'</td>\n",
       "      <td>2</td>\n",
       "      <td>141.970948</td>\n",
       "      <td>Zombieland</td>\n",
       "      <td>75.590286</td>\n",
       "    </tr>\n",
       "    <tr>\n",
       "      <th>580</th>\n",
       "      <td>Zombieland v Zombieland</td>\n",
       "      <td>2</td>\n",
       "      <td>148.713368</td>\n",
       "      <td>Zombieland</td>\n",
       "      <td>75.590286</td>\n",
       "    </tr>\n",
       "    <tr>\n",
       "      <th>581</th>\n",
       "      <td>Zombie Showdown</td>\n",
       "      <td>6</td>\n",
       "      <td>321.645999</td>\n",
       "      <td>Zombieland</td>\n",
       "      <td>75.590286</td>\n",
       "    </tr>\n",
       "  </tbody>\n",
       "</table>\n",
       "<p>582 rows × 5 columns</p>\n",
       "</div>"
      ],
      "text/plain": [
       "                           Showdown  Num_of_release  Total_gross_in_million  \\\n",
       "0          12 Years of Nancy Meyers               4              376.453634   \n",
       "1        2011 Winter/Spring Thrills               5              318.152924   \n",
       "2         '2012' Vs. 'Interstellar'               2              354.132184   \n",
       "3           2014 Superhero Showdown               4             1029.718639   \n",
       "4     2015 Domestic Underperformers               5              321.790869   \n",
       "..                              ...             ...                     ...   \n",
       "577                 X-Men Vs. X-Men               6             1065.460188   \n",
       "578         X-Philes Vs. Browncoats               3              130.395308   \n",
       "579  'Zombieland' Vs. 'Warm Bodies'               2              141.970948   \n",
       "580         Zombieland v Zombieland               2              148.713368   \n",
       "581                 Zombie Showdown               6              321.645999   \n",
       "\n",
       "               First_release  Gross_in_million  \n",
       "0     Something's Gotta Give        124.728738  \n",
       "1                  Limitless         79.249455  \n",
       "2               Interstellar        188.020017  \n",
       "3    Guardians of the Galaxy        333.176600  \n",
       "4               Tomorrowland         93.436322  \n",
       "..                       ...               ...  \n",
       "577    X-Men: The Last Stand        234.362462  \n",
       "578              The X Files         83.898313  \n",
       "579               Zombieland         75.590286  \n",
       "580               Zombieland         75.590286  \n",
       "581               Zombieland         75.590286  \n",
       "\n",
       "[582 rows x 5 columns]"
      ]
     },
     "execution_count": 32,
     "metadata": {},
     "output_type": "execute_result"
    }
   ],
   "source": [
    "box_off_showdowns # Write the dataframe out"
   ]
  },
  {
   "cell_type": "markdown",
   "id": "2f3fa81a",
   "metadata": {},
   "source": [
    "# EXPLORATORY DATA ANALYSIS"
   ]
  },
  {
   "cell_type": "code",
   "execution_count": 33,
   "id": "84686cc0",
   "metadata": {},
   "outputs": [
    {
     "data": {
      "text/html": [
       "<div>\n",
       "<style scoped>\n",
       "    .dataframe tbody tr th:only-of-type {\n",
       "        vertical-align: middle;\n",
       "    }\n",
       "\n",
       "    .dataframe tbody tr th {\n",
       "        vertical-align: top;\n",
       "    }\n",
       "\n",
       "    .dataframe thead th {\n",
       "        text-align: right;\n",
       "    }\n",
       "</style>\n",
       "<table border=\"1\" class=\"dataframe\">\n",
       "  <thead>\n",
       "    <tr style=\"text-align: right;\">\n",
       "      <th></th>\n",
       "      <th>Num_of_release</th>\n",
       "      <th>Total_gross_in_million</th>\n",
       "      <th>Gross_in_million</th>\n",
       "    </tr>\n",
       "  </thead>\n",
       "  <tbody>\n",
       "    <tr>\n",
       "      <th>count</th>\n",
       "      <td>582.000000</td>\n",
       "      <td>582.000000</td>\n",
       "      <td>582.000000</td>\n",
       "    </tr>\n",
       "    <tr>\n",
       "      <th>mean</th>\n",
       "      <td>3.922680</td>\n",
       "      <td>689.949153</td>\n",
       "      <td>221.357391</td>\n",
       "    </tr>\n",
       "    <tr>\n",
       "      <th>std</th>\n",
       "      <td>1.615076</td>\n",
       "      <td>683.315223</td>\n",
       "      <td>178.630770</td>\n",
       "    </tr>\n",
       "    <tr>\n",
       "      <th>min</th>\n",
       "      <td>2.000000</td>\n",
       "      <td>6.144486</td>\n",
       "      <td>3.125613</td>\n",
       "    </tr>\n",
       "    <tr>\n",
       "      <th>25%</th>\n",
       "      <td>3.000000</td>\n",
       "      <td>252.225832</td>\n",
       "      <td>102.086322</td>\n",
       "    </tr>\n",
       "    <tr>\n",
       "      <th>50%</th>\n",
       "      <td>4.000000</td>\n",
       "      <td>464.882088</td>\n",
       "      <td>169.106725</td>\n",
       "    </tr>\n",
       "    <tr>\n",
       "      <th>75%</th>\n",
       "      <td>5.000000</td>\n",
       "      <td>839.030913</td>\n",
       "      <td>292.576195</td>\n",
       "    </tr>\n",
       "    <tr>\n",
       "      <th>max</th>\n",
       "      <td>11.000000</td>\n",
       "      <td>4211.347190</td>\n",
       "      <td>936.662225</td>\n",
       "    </tr>\n",
       "  </tbody>\n",
       "</table>\n",
       "</div>"
      ],
      "text/plain": [
       "       Num_of_release  Total_gross_in_million  Gross_in_million\n",
       "count      582.000000              582.000000        582.000000\n",
       "mean         3.922680              689.949153        221.357391\n",
       "std          1.615076              683.315223        178.630770\n",
       "min          2.000000                6.144486          3.125613\n",
       "25%          3.000000              252.225832        102.086322\n",
       "50%          4.000000              464.882088        169.106725\n",
       "75%          5.000000              839.030913        292.576195\n",
       "max         11.000000             4211.347190        936.662225"
      ]
     },
     "execution_count": 33,
     "metadata": {},
     "output_type": "execute_result"
    }
   ],
   "source": [
    "box_off_showdowns.describe()"
   ]
  },
  {
   "cell_type": "markdown",
   "id": "f8f4a259",
   "metadata": {},
   "source": [
    "# The mean and the median of 'Total_gross' stands at 690 and 465 million respectively."
   ]
  },
  {
   "cell_type": "markdown",
   "id": "26a94ec1",
   "metadata": {},
   "source": [
    "# While the mean and the median of Gross stands at 221 and 169 million respectively"
   ]
  },
  {
   "cell_type": "raw",
   "id": "fee122a6",
   "metadata": {},
   "source": [
    "The wide differences between the mean and the median tells us that the data is skewed toward one end"
   ]
  },
  {
   "cell_type": "raw",
   "id": "f1737442",
   "metadata": {},
   "source": [
    "The minimum Total Gross is $6 million while the maximum is $4211 million"
   ]
  },
  {
   "cell_type": "raw",
   "id": "a8277e3d",
   "metadata": {},
   "source": [
    "The minimum Gross is $3 million while the maximum is $936 million"
   ]
  },
  {
   "cell_type": "code",
   "execution_count": 35,
   "id": "6cc861f8",
   "metadata": {},
   "outputs": [
    {
     "data": {
      "text/plain": [
       "<seaborn.axisgrid.PairGrid at 0x1eaa6c347f0>"
      ]
     },
     "execution_count": 35,
     "metadata": {},
     "output_type": "execute_result"
    },
    {
     "data": {
      "image/png": "[encoded data removed]",
      "text/plain": [
       "<Figure size 750x750 with 12 Axes>"
      ]
     },
     "metadata": {},
     "output_type": "display_data"
    }
   ],
   "source": [
    "sns.pairplot(box_off_showdowns) # Create a pair plot to visualise a posible relationship between the variables"
   ]
  },
  {
   "cell_type": "code",
   "execution_count": 36,
   "id": "8ed747d4",
   "metadata": {},
   "outputs": [],
   "source": [
    "# Plot the distribution of Gross and Total Gross"
   ]
  },
  {
   "cell_type": "code",
   "execution_count": 37,
   "id": "4d3c652a",
   "metadata": {},
   "outputs": [
    {
     "name": "stderr",
     "output_type": "stream",
     "text": [
      "C:\\Users\\MTN-SIMREG\\anaconda3\\lib\\site-packages\\seaborn\\distributions.py:2619: FutureWarning: `distplot` is a deprecated function and will be removed in a future version. Please adapt your code to use either `displot` (a figure-level function with similar flexibility) or `kdeplot` (an axes-level function for kernel density plots).\n",
      "  warnings.warn(msg, FutureWarning)\n",
      "C:\\Users\\MTN-SIMREG\\anaconda3\\lib\\site-packages\\seaborn\\distributions.py:2619: FutureWarning: `distplot` is a deprecated function and will be removed in a future version. Please adapt your code to use either `displot` (a figure-level function with similar flexibility) or `kdeplot` (an axes-level function for kernel density plots).\n",
      "  warnings.warn(msg, FutureWarning)\n"
     ]
    },
    {
     "data": {
      "image/png": "[encoded data removed]",
      "text/plain": [
       "<Figure size 640x480 with 1 Axes>"
      ]
     },
     "metadata": {},
     "output_type": "display_data"
    }
   ],
   "source": [
    "plt.show()"
   ]
  },
  {
   "cell_type": "code",
   "execution_count": 38,
   "id": "9c31bfbd",
   "metadata": {},
   "outputs": [],
   "source": [
    "# Plot the boxplot to visualise the median class of all the categories of Release"
   ]
  },
  {
   "cell_type": "code",
   "execution_count": 39,
   "id": "456a2eb9",
   "metadata": {},
   "outputs": [
    {
     "data": {
      "image/png": "[encoded data removed]",
      "text/plain": [
       "<Figure size 640x480 with 1 Axes>"
      ]
     },
     "metadata": {},
     "output_type": "display_data"
    }
   ],
   "source": [
    "sns.boxplot(x=\"Num_of_release\", y=\"Total_gross_in_million\", data=box_off_showdowns)\n",
    "plt.show()"
   ]
  },
  {
   "cell_type": "raw",
   "id": "d16ee5df",
   "metadata": {},
   "source": [
    "It is instructive to observe how the median values of the Total Gross increase with the Number of Release upto the 8th release\n",
    "and declined from the 9th release "
   ]
  },
  {
   "cell_type": "code",
   "execution_count": 40,
   "id": "a62d0e88",
   "metadata": {},
   "outputs": [],
   "source": [
    "# Further examine the characteristics of each category of Release"
   ]
  },
  {
   "cell_type": "code",
   "execution_count": 41,
   "id": "20ee718b",
   "metadata": {},
   "outputs": [
    {
     "data": {
      "text/plain": [
       "Num_of_release\n",
       "2      303.601913\n",
       "3      449.393561\n",
       "4      618.156029\n",
       "5      920.006570\n",
       "6     1157.011586\n",
       "7     1934.276549\n",
       "8     3371.395855\n",
       "9     1531.712848\n",
       "10    2617.100116\n",
       "11    2498.691635\n",
       "Name: Total_gross_in_million, dtype: float64"
      ]
     },
     "execution_count": 41,
     "metadata": {},
     "output_type": "execute_result"
    }
   ],
   "source": [
    "means = box_off_showdowns.groupby('Num_of_release')['Total_gross_in_million'].mean() #mean value of each group of release\n",
    "means "
   ]
  },
  {
   "cell_type": "code",
   "execution_count": 42,
   "id": "2fabd73e",
   "metadata": {},
   "outputs": [
    {
     "data": {
      "text/plain": [
       "Num_of_release\n",
       "2      234.919551\n",
       "3      383.205899\n",
       "4      506.556940\n",
       "5      687.066000\n",
       "6      937.493864\n",
       "7     1801.302045\n",
       "8     3371.395855\n",
       "9     1156.518556\n",
       "10    2617.100116\n",
       "11    2498.691635\n",
       "Name: Total_gross_in_million, dtype: float64"
      ]
     },
     "execution_count": 42,
     "metadata": {},
     "output_type": "execute_result"
    }
   ],
   "source": [
    "medians = box_off_showdowns.groupby('Num_of_release')['Total_gross_in_million'].median() # median value of each group of release\n",
    "medians"
   ]
  },
  {
   "cell_type": "code",
   "execution_count": 43,
   "id": "7d2a4423",
   "metadata": {},
   "outputs": [
    {
     "data": {
      "text/plain": [
       "Num_of_release\n",
       "2     145\n",
       "3     128\n",
       "4      93\n",
       "5      91\n",
       "6     110\n",
       "7       7\n",
       "8       2\n",
       "9       4\n",
       "10      1\n",
       "11      1\n",
       "Name: Total_gross_in_million, dtype: int64"
      ]
     },
     "execution_count": 43,
     "metadata": {},
     "output_type": "execute_result"
    }
   ],
   "source": [
    "counts = box_off_showdowns.groupby('Num_of_release')['Total_gross_in_million'].count() # frequency of each group of release\n",
    "counts"
   ]
  },
  {
   "cell_type": "code",
   "execution_count": 44,
   "id": "910c64fd",
   "metadata": {},
   "outputs": [
    {
     "name": "stderr",
     "output_type": "stream",
     "text": [
      "C:\\Users\\MTN-SIMREG\\anaconda3\\lib\\site-packages\\seaborn\\distributions.py:2619: FutureWarning: `distplot` is a deprecated function and will be removed in a future version. Please adapt your code to use either `displot` (a figure-level function with similar flexibility) or `kdeplot` (an axes-level function for kernel density plots).\n",
      "  warnings.warn(msg, FutureWarning)\n",
      "C:\\Users\\MTN-SIMREG\\anaconda3\\lib\\site-packages\\seaborn\\distributions.py:2619: FutureWarning: `distplot` is a deprecated function and will be removed in a future version. Please adapt your code to use either `displot` (a figure-level function with similar flexibility) or `kdeplot` (an axes-level function for kernel density plots).\n",
      "  warnings.warn(msg, FutureWarning)\n"
     ]
    },
    {
     "data": {
      "image/png": "[encoded data removed]",
      "text/plain": [
       "<Figure size 640x480 with 1 Axes>"
      ]
     },
     "metadata": {},
     "output_type": "display_data"
    }
   ],
   "source": [
    "plt.style.use('dark_background')\n",
    "plt.suptitle('Dist. of means and medians of diff No.of Release(2,3,4,5,6,7,8,9,10,11)', weight='bold', color ='white').set_fontsize(12)\n",
    "plt.title('Data scraped from Boxoffice website', color = 'white').set_fontsize(10)\n",
    "sns.distplot(means, kde=True, hist=False, label='mean')\n",
    "sns.distplot(medians, kde=True, hist=False, label='median')\n",
    "plt.xlabel('Total Gross (in millions)', weight = 'bold', color = 'white')\n",
    "plt.ylabel('Density', weight = 'bold', color = 'white')\n",
    "plt.xticks(color = 'white')\n",
    "plt.yticks(color = 'white')\n",
    "plt.legend()\n",
    "plt.show()"
   ]
  },
  {
   "cell_type": "raw",
   "id": "59aa1607",
   "metadata": {},
   "source": [
    "Category with 8 Numbers of Release has the highest median value of about $3500 million total gross\n",
    "The mean equals the median from the 8th Number of Release to the 11th Number of Release"
   ]
  },
  {
   "cell_type": "code",
   "execution_count": 45,
   "id": "68fd2c50",
   "metadata": {},
   "outputs": [],
   "source": [
    "# Create SLQ connection to create queries and extract data"
   ]
  },
  {
   "cell_type": "code",
   "execution_count": 48,
   "id": "2b55f37e",
   "metadata": {},
   "outputs": [
    {
     "data": {
      "text/plain": [
       "<sqlite3.Cursor at 0x1eaad596960>"
      ]
     },
     "execution_count": 48,
     "metadata": {},
     "output_type": "execute_result"
    }
   ],
   "source": [
    "Path('box_off_showdowns.db').touch()\n",
    "switch_conn = sqlite3.connect('box_off_showdowns.db')\n",
    "switch_c = switch_conn.cursor()\n",
    "switch_c.execute('''CREATE TABLE box_off_showdowns_tabs (Showdown text, Num_of_release real, Total_gross_in_million real, First_release text, Gross_in_million real)''')"
   ]
  },
  {
   "cell_type": "code",
   "execution_count": 49,
   "id": "9a133767",
   "metadata": {},
   "outputs": [
    {
     "data": {
      "text/plain": [
       "582"
      ]
     },
     "execution_count": 49,
     "metadata": {},
     "output_type": "execute_result"
    }
   ],
   "source": [
    "box_off_showdowns.to_sql('box_off_showdowns_tabs', switch_conn, if_exists = 'append', index=False)"
   ]
  },
  {
   "cell_type": "code",
   "execution_count": 50,
   "id": "186884b7",
   "metadata": {},
   "outputs": [],
   "source": [
    "highest_total_gross = pd.read_sql('''SELECT Showdown, Num_of_release, Total_gross_in_million FROM box_off_showdowns_tabs\n",
    "WHERE Total_gross_in_million>2000\n",
    "ORDER BY Total_gross_in_million DESC''', switch_conn)"
   ]
  },
  {
   "cell_type": "code",
   "execution_count": 52,
   "id": "b2fbb358",
   "metadata": {},
   "outputs": [
    {
     "data": {
      "text/html": [
       "<div>\n",
       "<style scoped>\n",
       "    .dataframe tbody tr th:only-of-type {\n",
       "        vertical-align: middle;\n",
       "    }\n",
       "\n",
       "    .dataframe tbody tr th {\n",
       "        vertical-align: top;\n",
       "    }\n",
       "\n",
       "    .dataframe thead th {\n",
       "        text-align: right;\n",
       "    }\n",
       "</style>\n",
       "<table border=\"1\" class=\"dataframe\">\n",
       "  <thead>\n",
       "    <tr style=\"text-align: right;\">\n",
       "      <th></th>\n",
       "      <th>Showdown</th>\n",
       "      <th>Num_of_release</th>\n",
       "      <th>Total_gross_in_million</th>\n",
       "    </tr>\n",
       "  </thead>\n",
       "  <tbody>\n",
       "    <tr>\n",
       "      <th>0</th>\n",
       "      <td>Opening Weekend Showdown</td>\n",
       "      <td>6.0</td>\n",
       "      <td>4211.347190</td>\n",
       "    </tr>\n",
       "    <tr>\n",
       "      <th>1</th>\n",
       "      <td>All Time Grossers</td>\n",
       "      <td>6.0</td>\n",
       "      <td>4096.085314</td>\n",
       "    </tr>\n",
       "    <tr>\n",
       "      <th>2</th>\n",
       "      <td>All Time Openers</td>\n",
       "      <td>8.0</td>\n",
       "      <td>4091.545218</td>\n",
       "    </tr>\n",
       "    <tr>\n",
       "      <th>3</th>\n",
       "      <td>Multiverse vs. MCU</td>\n",
       "      <td>7.0</td>\n",
       "      <td>3910.558344</td>\n",
       "    </tr>\n",
       "    <tr>\n",
       "      <th>4</th>\n",
       "      <td>MCU Top Openers</td>\n",
       "      <td>6.0</td>\n",
       "      <td>3727.696175</td>\n",
       "    </tr>\n",
       "    <tr>\n",
       "      <th>5</th>\n",
       "      <td>Avengers v. Star Wars</td>\n",
       "      <td>5.0</td>\n",
       "      <td>3717.389999</td>\n",
       "    </tr>\n",
       "    <tr>\n",
       "      <th>6</th>\n",
       "      <td>Tom Holland Blockbusters</td>\n",
       "      <td>7.0</td>\n",
       "      <td>3623.448353</td>\n",
       "    </tr>\n",
       "    <tr>\n",
       "      <th>7</th>\n",
       "      <td>King Size Domestic Grosses</td>\n",
       "      <td>5.0</td>\n",
       "      <td>3562.739956</td>\n",
       "    </tr>\n",
       "    <tr>\n",
       "      <th>8</th>\n",
       "      <td>Spidey Showdown</td>\n",
       "      <td>9.0</td>\n",
       "      <td>3298.475111</td>\n",
       "    </tr>\n",
       "    <tr>\n",
       "      <th>9</th>\n",
       "      <td>Star Wars 2015-2019</td>\n",
       "      <td>5.0</td>\n",
       "      <td>2817.990985</td>\n",
       "    </tr>\n",
       "  </tbody>\n",
       "</table>\n",
       "</div>"
      ],
      "text/plain": [
       "                     Showdown  Num_of_release  Total_gross_in_million\n",
       "0    Opening Weekend Showdown             6.0             4211.347190\n",
       "1           All Time Grossers             6.0             4096.085314\n",
       "2            All Time Openers             8.0             4091.545218\n",
       "3          Multiverse vs. MCU             7.0             3910.558344\n",
       "4             MCU Top Openers             6.0             3727.696175\n",
       "5       Avengers v. Star Wars             5.0             3717.389999\n",
       "6    Tom Holland Blockbusters             7.0             3623.448353\n",
       "7  King Size Domestic Grosses             5.0             3562.739956\n",
       "8             Spidey Showdown             9.0             3298.475111\n",
       "9         Star Wars 2015-2019             5.0             2817.990985"
      ]
     },
     "execution_count": 52,
     "metadata": {},
     "output_type": "execute_result"
    }
   ],
   "source": [
    "highest_total_gross.head(10)"
   ]
  },
  {
   "cell_type": "code",
   "execution_count": 53,
   "id": "3dfe27c6",
   "metadata": {},
   "outputs": [
    {
     "data": {
      "text/html": [
       "<div>\n",
       "<style scoped>\n",
       "    .dataframe tbody tr th:only-of-type {\n",
       "        vertical-align: middle;\n",
       "    }\n",
       "\n",
       "    .dataframe tbody tr th {\n",
       "        vertical-align: top;\n",
       "    }\n",
       "\n",
       "    .dataframe thead th {\n",
       "        text-align: right;\n",
       "    }\n",
       "</style>\n",
       "<table border=\"1\" class=\"dataframe\">\n",
       "  <thead>\n",
       "    <tr style=\"text-align: right;\">\n",
       "      <th></th>\n",
       "      <th>Num_of_release</th>\n",
       "      <th>Total_gross_in_million</th>\n",
       "      <th>Gross_in_million</th>\n",
       "    </tr>\n",
       "  </thead>\n",
       "  <tbody>\n",
       "    <tr>\n",
       "      <th>Num_of_release</th>\n",
       "      <td>1.000000</td>\n",
       "      <td>0.553907</td>\n",
       "      <td>0.302552</td>\n",
       "    </tr>\n",
       "    <tr>\n",
       "      <th>Total_gross_in_million</th>\n",
       "      <td>0.553907</td>\n",
       "      <td>1.000000</td>\n",
       "      <td>0.906487</td>\n",
       "    </tr>\n",
       "    <tr>\n",
       "      <th>Gross_in_million</th>\n",
       "      <td>0.302552</td>\n",
       "      <td>0.906487</td>\n",
       "      <td>1.000000</td>\n",
       "    </tr>\n",
       "  </tbody>\n",
       "</table>\n",
       "</div>"
      ],
      "text/plain": [
       "                        Num_of_release  Total_gross_in_million  \\\n",
       "Num_of_release                1.000000                0.553907   \n",
       "Total_gross_in_million        0.553907                1.000000   \n",
       "Gross_in_million              0.302552                0.906487   \n",
       "\n",
       "                        Gross_in_million  \n",
       "Num_of_release                  0.302552  \n",
       "Total_gross_in_million          0.906487  \n",
       "Gross_in_million                1.000000  "
      ]
     },
     "execution_count": 53,
     "metadata": {},
     "output_type": "execute_result"
    }
   ],
   "source": [
    "myCorrelation = box_off_showdowns.corr()\n",
    "myCorrelation"
   ]
  },
  {
   "cell_type": "code",
   "execution_count": 54,
   "id": "c674c627",
   "metadata": {},
   "outputs": [
    {
     "data": {
      "image/png": "[encoded data removed]",
      "text/plain": [
       "<Figure size 640x480 with 2 Axes>"
      ]
     },
     "metadata": {},
     "output_type": "display_data"
    }
   ],
   "source": [
    "sns.heatmap(myCorrelation, annot=True)\n",
    "plt.show()"
   ]
  },
  {
   "cell_type": "code",
   "execution_count": 55,
   "id": "aa335ab2",
   "metadata": {},
   "outputs": [
    {
     "data": {
      "text/plain": [
       "Num_of_release\n",
       "2      44022.277410\n",
       "3      57522.375811\n",
       "4      57488.510693\n",
       "5      83720.597861\n",
       "6     127271.274461\n",
       "7      13539.935845\n",
       "8       6742.791711\n",
       "9       6126.851392\n",
       "10      2617.100116\n",
       "11      2498.691635\n",
       "Name: Total_gross_in_million, dtype: float64"
      ]
     },
     "execution_count": 55,
     "metadata": {},
     "output_type": "execute_result"
    }
   ],
   "source": [
    "sums = box_off_showdowns.groupby('Num_of_release')['Total_gross_in_million'].sum()\n",
    "sums"
   ]
  },
  {
   "cell_type": "code",
   "execution_count": null,
   "id": "26264d71",
   "metadata": {},
   "outputs": [],
   "source": []
  }
 ],
 "metadata": {
  "kernelspec": {
   "display_name": "Python 3 (ipykernel)",
   "language": "python",
   "name": "python3"
  },
  "language_info": {
   "codemirror_mode": {
    "name": "ipython",
    "version": 3
   },
   "file_extension": ".py",
   "mimetype": "text/x-python",
   "name": "python",
   "nbconvert_exporter": "python",
   "pygments_lexer": "ipython3",
   "version": "3.9.13"
  }
 },
 "nbformat": 4,
 "nbformat_minor": 5
}
